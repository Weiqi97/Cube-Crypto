{
 "cells": [
  {
   "cell_type": "code",
   "execution_count": null,
   "metadata": {},
   "outputs": [],
   "source": []
  },
  {
   "cell_type": "code",
   "execution_count": 3,
   "metadata": {},
   "outputs": [
    {
     "data": {
      "text/plain": [
       "20.228000000000002"
      ]
     },
     "execution_count": 3,
     "metadata": {},
     "output_type": "execute_result"
    }
   ],
   "source": [
    "\"\"\"Analyze the reduced length of random generated keys.\"\"\"\n",
    "\n",
    "import numpy as np\n",
    "from cube_encryption.encryption import Encryption\n",
    "from cube_encryption.key_analyzer import KeyAnalyzer\n",
    "\n",
    "# ------------------------- Results -----------------------------\n",
    "# When key length is 20, the reduced key length is around: 15.05.\n",
    "# When key length is 21, the reduced key length is around: 15.79.\n",
    "# When key length is 25, the reduced key length is around: 18.73.\n",
    "# When key length is 26, the reduced key length is around: 19.50.\n",
    "# When key length is 27, the reduced key length is around: 20.20.\n",
    "# When key length is 28, the reduced key length is around: 20.90.\n",
    "\n",
    "# ------------------- The analyze process -----------------------\n",
    "# Initialize the protocol.\n",
    "protocol = Encryption(message=\"Dummy Message\", cube_side_length=3)\n",
    "# Find the reduced key length in average.\n",
    "key_length = [\n",
    "    len(KeyAnalyzer(key=protocol.generate_random_key(length=27)).analyze())\n",
    "    for _ in range(10000)\n",
    "]\n",
    "# Print the mean.\n",
    "np.mean(key_length)"
   ]
  }
 ],
 "metadata": {
  "kernelspec": {
   "display_name": "Python 3",
   "language": "python",
   "name": "python3"
  },
  "language_info": {
   "codemirror_mode": {
    "name": "ipython",
    "version": 3
   },
   "file_extension": ".py",
   "mimetype": "text/x-python",
   "name": "python",
   "nbconvert_exporter": "python",
   "pygments_lexer": "ipython3",
   "version": "3.6.5"
  }
 },
 "nbformat": 4,
 "nbformat_minor": 2
}
