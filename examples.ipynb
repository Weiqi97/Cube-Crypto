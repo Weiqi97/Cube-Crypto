{
 "cells": [
  {
   "cell_type": "code",
   "execution_count": 1,
   "metadata": {},
   "outputs": [
    {
     "ename": "StdinNotImplementedError",
     "evalue": "raw_input was called, but this frontend does not support input requests.",
     "output_type": "error",
     "traceback": [
      "\u001b[1;31m---------------------------------------------------------------------------\u001b[0m",
      "\u001b[1;31mStdinNotImplementedError\u001b[0m                  Traceback (most recent call last)",
      "\u001b[1;32m<ipython-input-1-41da73faa812>\u001b[0m in \u001b[0;36m<module>\u001b[1;34m\u001b[0m\n\u001b[0;32m      6\u001b[0m \u001b[1;33m\u001b[0m\u001b[0m\n\u001b[0;32m      7\u001b[0m \u001b[1;31m# Ask user for a message to encrypt.\u001b[0m\u001b[1;33m\u001b[0m\u001b[1;33m\u001b[0m\u001b[1;33m\u001b[0m\u001b[0m\n\u001b[1;32m----> 8\u001b[1;33m \u001b[0mmessage\u001b[0m \u001b[1;33m=\u001b[0m \u001b[0minput\u001b[0m\u001b[1;33m(\u001b[0m\u001b[1;34m\"Please type in the message you want to encrypt.\\n\"\u001b[0m\u001b[1;33m)\u001b[0m\u001b[1;33m\u001b[0m\u001b[1;33m\u001b[0m\u001b[0m\n\u001b[0m\u001b[0;32m      9\u001b[0m \u001b[1;33m\u001b[0m\u001b[0m\n\u001b[0;32m     10\u001b[0m \u001b[1;31m# Ask user for a desired cube size.\u001b[0m\u001b[1;33m\u001b[0m\u001b[1;33m\u001b[0m\u001b[1;33m\u001b[0m\u001b[0m\n",
      "\u001b[1;32m~\\Miniconda\\lib\\site-packages\\ipykernel\\kernelbase.py\u001b[0m in \u001b[0;36mraw_input\u001b[1;34m(self, prompt)\u001b[0m\n\u001b[0;32m    846\u001b[0m         \u001b[1;32mif\u001b[0m \u001b[1;32mnot\u001b[0m \u001b[0mself\u001b[0m\u001b[1;33m.\u001b[0m\u001b[0m_allow_stdin\u001b[0m\u001b[1;33m:\u001b[0m\u001b[1;33m\u001b[0m\u001b[1;33m\u001b[0m\u001b[0m\n\u001b[0;32m    847\u001b[0m             raise StdinNotImplementedError(\n\u001b[1;32m--> 848\u001b[1;33m                 \u001b[1;34m\"raw_input was called, but this frontend does not support input requests.\"\u001b[0m\u001b[1;33m\u001b[0m\u001b[1;33m\u001b[0m\u001b[0m\n\u001b[0m\u001b[0;32m    849\u001b[0m             )\n\u001b[0;32m    850\u001b[0m         return self._input_request(str(prompt),\n",
      "\u001b[1;31mStdinNotImplementedError\u001b[0m: raw_input was called, but this frontend does not support input requests."
     ]
    }
   ],
   "source": [
    "\"\"\"This jupyter notebook section provides a sample usage of the encryption protocol.\"\"\"\n",
    "\n",
    "import pandas as pd\n",
    "from content.encryption.encryption import Encryption\n",
    "from content.analyzers.key_analyzer import KeyAnalyzer\n",
    "\n",
    "# Ask user for a message to encrypt.\n",
    "message = input(\"Please type in the message you want to encrypt.\\n\")\n",
    "\n",
    "# Ask user for a desired cube size.\n",
    "cube_side_length = int(input(\"Please type in the desired cube side length.\\n\"))\n",
    "\n",
    "# Initialize the protocol.\n",
    "protocol = Encryption(message=message, cube_side_length=cube_side_length)\n",
    "\n",
    "# Print the layout of the cube.\n",
    "print(\"The layout of the desired cube is: \")\n",
    "# noinspection PyProtectedMember\n",
    "print(\n",
    "    pd.DataFrame(\n",
    "        data=0,\n",
    "        index=protocol._cubes[0]._front_face.get_frame_index(\n",
    "            cube_side_length=cube_side_length\n",
    "        ),\n",
    "        columns=protocol._cubes[0]._front_face.get_frame_column(\n",
    "            cube_side_length=cube_side_length\n",
    "        )\n",
    "    )\n",
    ")\n",
    "\n",
    "# Ask the user for a desired key length.\n",
    "key_length = int(input(\"Please type in the desired key length.\\n\"))\n",
    "\n",
    "# Generate the desired key.\n",
    "key = protocol.generate_random_key(length=key_length)\n",
    "\n",
    "# Print the random generated key.\n",
    "print(\"\\nThe random generated key is: \")\n",
    "for each_key in key:\n",
    "    print(f\"The move is: {each_key.move}, \"\n",
    "          f\"the angle is: {each_key.angle} \"\n",
    "          f\"and the index is: {each_key.index}\")\n",
    "# Print a separator.\n",
    "print(\"\\n\")\n",
    "\n",
    "# Perform the key analyzing.\n",
    "key = KeyAnalyzer(key=key).analyze()\n",
    "# Print the reduced key.\n",
    "print(f\"\\nThe reduced key has length {len(key)}, and it is: \")\n",
    "for each_key in key:\n",
    "    print(f\"The move is: {each_key.move}, \"\n",
    "          f\"the angle is: {each_key.angle} \"\n",
    "          f\"and the index is: {each_key.index}\")\n",
    "# Print a separator.\n",
    "print(\"\\n\")\n",
    "\n",
    "\n",
    "# Show user the current un-encrypted binary.\n",
    "print(f\"The plain-text in binary padded is: {protocol.get_pad_binary()}\\n\")\n",
    "\n",
    "# Encrypt the message based on the given key.\n",
    "protocol.encrypt(key=key)\n",
    "\n",
    "# Show user the current encrypted binary.\n",
    "print(f\"The cipher-text in binary is: {protocol.get_pad_binary()}\\n\")\n",
    "\n",
    "# Decrypt the message.\n",
    "protocol.decrypt()\n",
    "\n",
    "# Show the plain-text recovered.\n",
    "print(f\"The decrypted message is: {protocol.get_un_pad_string()}\")\n"
   ]
  },
  {
   "cell_type": "code",
   "execution_count": 2,
   "metadata": {},
   "outputs": [
    {
     "data": {
      "text/plain": [
       "20.1916"
      ]
     },
     "execution_count": 2,
     "metadata": {},
     "output_type": "execute_result"
    }
   ],
   "source": [
    "\"\"\"Analyze the reduced length of random generated keys.\"\"\"\n",
    "\n",
    "import numpy as np\n",
    "from content.encryption.encryption import Encryption\n",
    "from content.analyzers.key_analyzer import KeyAnalyzer\n",
    "\n",
    "# ------------------------- Results -----------------------------\n",
    "# When key length is 20, the reduced key length is around: 15.05.\n",
    "# When key length is 21, the reduced key length is around: 15.79.\n",
    "# When key length is 25, the reduced key length is around: 18.73.\n",
    "# When key length is 26, the reduced key length is around: 19.50.\n",
    "# When key length is 27, the reduced key length is around: 20.20.\n",
    "# When key length is 28, the reduced key length is around: 20.90.\n",
    "\n",
    "# ------------------- The analyze process -----------------------\n",
    "# Initialize the protocol.\n",
    "protocol = Encryption(message=\"Dummy Message\", cube_side_length=3)\n",
    "# Find the reduced key length in average.\n",
    "key_length = [\n",
    "    len(KeyAnalyzer(key=protocol.generate_random_key(length=27)).analyze())\n",
    "    for _ in range(10000)\n",
    "]\n",
    "# Print the mean.\n",
    "np.mean(key_length)\n"
   ]
  },
  {
   "cell_type": "code",
   "execution_count": 1,
   "metadata": {},
   "outputs": [
    {
     "name": "stdout",
     "output_type": "stream",
     "text": [
      "120\n"
     ]
    }
   ],
   "source": [
    "from itertools import chain\n",
    "from content.analyzers.cubie_location_analyzer import CubieLocationAnalyzer\n",
    "\n",
    "init_analyzer = CubieLocationAnalyzer(cube_side_length=3, track_item_location=12)\n",
    "locations = init_analyzer.get_all_location()\n",
    "\n",
    "for _ in range(3):\n",
    "    \n",
    "    locations_lists = [\n",
    "        CubieLocationAnalyzer(\n",
    "            cube_side_length=3, \n",
    "            track_item_location=location\n",
    "        ).get_all_location()\n",
    "        for location in locations\n",
    "    ]\n",
    "    \n",
    "    locations = set(chain.from_iterable(locations_lists))\n",
    "\n",
    "print(len(locations))"
   ]
  },
  {
   "cell_type": "code",
   "execution_count": 20,
   "metadata": {},
   "outputs": [
    {
     "data": {
      "text/plain": [
       "'file://C:\\\\Users\\\\Weiqi\\\\Documents\\\\GitHub\\\\Cube-Crypto\\\\result.html'"
      ]
     },
     "execution_count": 20,
     "metadata": {},
     "output_type": "execute_result"
    }
   ],
   "source": [
    "from content.analyzers.cubie_location_analyzer import CubieLocationAnalyzer\n",
    "from content.helper.helper import generate_random_keys\n",
    "import plotly.plotly as py\n",
    "import plotly.graph_objs as go\n",
    "import plotly\n",
    "\n",
    "analyzer = CubieLocationAnalyzer(cube_side_length=3, track_item_location=0)\n",
    "\n",
    "keys = generate_random_keys(length=40, max_index=1)\n",
    "\n",
    "locations = analyzer.location_tracker(keys=keys)\n",
    "\n",
    "# Create a trace\n",
    "trace = go.Scatter(\n",
    "    x = [index + 1 for index in range(len(locations))],\n",
    "    y = locations,\n",
    "    mode = 'lines+markers',\n",
    "    stream = {\n",
    "        \"token\": \"8rz8f2m4mq\"\n",
    "    }\n",
    ")\n",
    "\n",
    "data = [trace]\n",
    "\n",
    "# Plot and embed in ipython notebook!\n",
    "plotly.offline.plot(data, filename='result.html')\n",
    "\n"
   ]
  },
  {
   "cell_type": "code",
   "execution_count": 22,
   "metadata": {},
   "outputs": [
    {
     "data": {
      "text/plain": [
       "'file://C:\\\\Users\\\\Weiqi\\\\Documents\\\\GitHub\\\\Cube-Crypto\\\\result.html'"
      ]
     },
     "execution_count": 22,
     "metadata": {},
     "output_type": "execute_result"
    }
   ],
   "source": [
    "from content.analyzers.cubie_location_analyzer import CubieLocationAnalyzer\n",
    "from content.helper.helper import generate_random_keys\n",
    "import plotly.plotly as py\n",
    "import plotly.graph_objs as go\n",
    "import plotly\n",
    "\n",
    "analyzer1 = CubieLocationAnalyzer(cube_side_length=3, track_item_location=0)\n",
    "analyzer2 = CubieLocationAnalyzer(cube_side_length=3, track_item_location=1)\n",
    "\n",
    "keys = generate_random_keys(length=20, max_index=1)\n",
    "\n",
    "locations1 = analyzer1.location_tracker(keys=keys)\n",
    "locations2 = analyzer2.location_tracker(keys=keys)\n",
    "\n",
    "\n",
    "# Create a trace\n",
    "trace1 = go.Scatter(\n",
    "    x = [index + 1 for index in range(len(locations1))],\n",
    "    y = locations1,\n",
    "    mode = 'lines+markers',\n",
    "    stream = {\n",
    "        \"token\": \"8rz8f2m4mq\"\n",
    "    }\n",
    ")\n",
    "\n",
    "# Create a trace\n",
    "trace2 = go.Scatter(\n",
    "    x = [index + 1 for index in range(len(locations2))],\n",
    "    y = locations2,\n",
    "    mode = 'lines+markers',\n",
    "\n",
    ")\n",
    "\n",
    "data = [trace1, trace2]\n",
    "\n",
    "# Plot and embed in ipython notebook!\n",
    "plotly.offline.plot(data, filename='result.html')\n",
    "\n"
   ]
  },
  {
   "cell_type": "code",
   "execution_count": null,
   "metadata": {},
   "outputs": [],
   "source": []
  },
  {
   "cell_type": "code",
   "execution_count": null,
   "metadata": {},
   "outputs": [],
   "source": []
  }
 ],
 "metadata": {
  "kernelspec": {
   "display_name": "Python 3",
   "language": "python",
   "name": "python3"
  },
  "language_info": {
   "codemirror_mode": {
    "name": "ipython",
    "version": 3
   },
   "file_extension": ".py",
   "mimetype": "text/x-python",
   "name": "python",
   "nbconvert_exporter": "python",
   "pygments_lexer": "ipython3",
   "version": "3.7.2"
  }
 },
 "nbformat": 4,
 "nbformat_minor": 2
}
