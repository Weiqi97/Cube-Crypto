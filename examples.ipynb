{
 "cells": [
  {
   "cell_type": "code",
   "execution_count": 1,
   "metadata": {},
   "outputs": [
    {
     "ename": "StdinNotImplementedError",
     "evalue": "raw_input was called, but this frontend does not support input requests.",
     "output_type": "error",
     "traceback": [
      "\u001b[1;31m---------------------------------------------------------------------------\u001b[0m",
      "\u001b[1;31mStdinNotImplementedError\u001b[0m                  Traceback (most recent call last)",
      "\u001b[1;32m<ipython-input-1-41da73faa812>\u001b[0m in \u001b[0;36m<module>\u001b[1;34m\u001b[0m\n\u001b[0;32m      6\u001b[0m \u001b[1;33m\u001b[0m\u001b[0m\n\u001b[0;32m      7\u001b[0m \u001b[1;31m# Ask user for a message to encrypt.\u001b[0m\u001b[1;33m\u001b[0m\u001b[1;33m\u001b[0m\u001b[1;33m\u001b[0m\u001b[0m\n\u001b[1;32m----> 8\u001b[1;33m \u001b[0mmessage\u001b[0m \u001b[1;33m=\u001b[0m \u001b[0minput\u001b[0m\u001b[1;33m(\u001b[0m\u001b[1;34m\"Please type in the message you want to encrypt.\\n\"\u001b[0m\u001b[1;33m)\u001b[0m\u001b[1;33m\u001b[0m\u001b[1;33m\u001b[0m\u001b[0m\n\u001b[0m\u001b[0;32m      9\u001b[0m \u001b[1;33m\u001b[0m\u001b[0m\n\u001b[0;32m     10\u001b[0m \u001b[1;31m# Ask user for a desired cube size.\u001b[0m\u001b[1;33m\u001b[0m\u001b[1;33m\u001b[0m\u001b[1;33m\u001b[0m\u001b[0m\n",
      "\u001b[1;32m~\\Miniconda\\lib\\site-packages\\ipykernel\\kernelbase.py\u001b[0m in \u001b[0;36mraw_input\u001b[1;34m(self, prompt)\u001b[0m\n\u001b[0;32m    846\u001b[0m         \u001b[1;32mif\u001b[0m \u001b[1;32mnot\u001b[0m \u001b[0mself\u001b[0m\u001b[1;33m.\u001b[0m\u001b[0m_allow_stdin\u001b[0m\u001b[1;33m:\u001b[0m\u001b[1;33m\u001b[0m\u001b[1;33m\u001b[0m\u001b[0m\n\u001b[0;32m    847\u001b[0m             raise StdinNotImplementedError(\n\u001b[1;32m--> 848\u001b[1;33m                 \u001b[1;34m\"raw_input was called, but this frontend does not support input requests.\"\u001b[0m\u001b[1;33m\u001b[0m\u001b[1;33m\u001b[0m\u001b[0m\n\u001b[0m\u001b[0;32m    849\u001b[0m             )\n\u001b[0;32m    850\u001b[0m         return self._input_request(str(prompt),\n",
      "\u001b[1;31mStdinNotImplementedError\u001b[0m: raw_input was called, but this frontend does not support input requests."
     ]
    }
   ],
   "source": [
    "\"\"\"This jupyter notebook section provides a sample usage of the encryption protocol.\"\"\"\n",
    "\n",
    "import pandas as pd\n",
    "from content.encryption.encryption import Encryption\n",
    "from content.analyzers.key_analyzer import KeyAnalyzer\n",
    "\n",
    "# Ask user for a message to encrypt.\n",
    "message = input(\"Please type in the message you want to encrypt.\\n\")\n",
    "\n",
    "# Ask user for a desired cube size.\n",
    "cube_side_length = int(input(\"Please type in the desired cube side length.\\n\"))\n",
    "\n",
    "# Initialize the protocol.\n",
    "protocol = Encryption(message=message, cube_side_length=cube_side_length)\n",
    "\n",
    "# Print the layout of the cube.\n",
    "print(\"The layout of the desired cube is: \")\n",
    "# noinspection PyProtectedMember\n",
    "print(\n",
    "    pd.DataFrame(\n",
    "        data=0,\n",
    "        index=protocol._cubes[0]._front_face.get_frame_index(\n",
    "            cube_side_length=cube_side_length\n",
    "        ),\n",
    "        columns=protocol._cubes[0]._front_face.get_frame_column(\n",
    "            cube_side_length=cube_side_length\n",
    "        )\n",
    "    )\n",
    ")\n",
    "\n",
    "# Ask the user for a desired key length.\n",
    "key_length = int(input(\"Please type in the desired key length.\\n\"))\n",
    "\n",
    "# Generate the desired key.\n",
    "key = protocol.generate_random_key(length=key_length)\n",
    "\n",
    "# Print the random generated key.\n",
    "print(\"\\nThe random generated key is: \")\n",
    "for each_key in key:\n",
    "    print(f\"The move is: {each_key.move}, \"\n",
    "          f\"the angle is: {each_key.angle} \"\n",
    "          f\"and the index is: {each_key.index}\")\n",
    "# Print a separator.\n",
    "print(\"\\n\")\n",
    "\n",
    "# Perform the key analyzing.\n",
    "key = KeyAnalyzer(key=key).analyze()\n",
    "# Print the reduced key.\n",
    "print(f\"\\nThe reduced key has length {len(key)}, and it is: \")\n",
    "for each_key in key:\n",
    "    print(f\"The move is: {each_key.move}, \"\n",
    "          f\"the angle is: {each_key.angle} \"\n",
    "          f\"and the index is: {each_key.index}\")\n",
    "# Print a separator.\n",
    "print(\"\\n\")\n",
    "\n",
    "\n",
    "# Show user the current un-encrypted binary.\n",
    "print(f\"The plain-text in binary padded is: {protocol.get_pad_binary()}\\n\")\n",
    "\n",
    "# Encrypt the message based on the given key.\n",
    "protocol.encrypt(key=key)\n",
    "\n",
    "# Show user the current encrypted binary.\n",
    "print(f\"The cipher-text in binary is: {protocol.get_pad_binary()}\\n\")\n",
    "\n",
    "# Decrypt the message.\n",
    "protocol.decrypt()\n",
    "\n",
    "# Show the plain-text recovered.\n",
    "print(f\"The decrypted message is: {protocol.get_un_pad_string()}\")\n"
   ]
  },
  {
   "cell_type": "code",
   "execution_count": 2,
   "metadata": {},
   "outputs": [
    {
     "data": {
      "text/plain": [
       "20.1916"
      ]
     },
     "execution_count": 2,
     "metadata": {},
     "output_type": "execute_result"
    }
   ],
   "source": [
    "\"\"\"Analyze the reduced length of random generated keys.\"\"\"\n",
    "\n",
    "import numpy as np\n",
    "from content.encryption.encryption import Encryption\n",
    "from content.analyzers.key_analyzer import KeyAnalyzer\n",
    "\n",
    "# ------------------------- Results -----------------------------\n",
    "# When key length is 20, the reduced key length is around: 15.05.\n",
    "# When key length is 21, the reduced key length is around: 15.79.\n",
    "# When key length is 25, the reduced key length is around: 18.73.\n",
    "# When key length is 26, the reduced key length is around: 19.50.\n",
    "# When key length is 27, the reduced key length is around: 20.20.\n",
    "# When key length is 28, the reduced key length is around: 20.90.\n",
    "\n",
    "# ------------------- The analyze process -----------------------\n",
    "# Initialize the protocol.\n",
    "protocol = Encryption(message=\"Dummy Message\", cube_side_length=3)\n",
    "# Find the reduced key length in average.\n",
    "key_length = [\n",
    "    len(KeyAnalyzer(key=protocol.generate_random_key(length=27)).analyze())\n",
    "    for _ in range(10000)\n",
    "]\n",
    "# Print the mean.\n",
    "np.mean(key_length)\n"
   ]
  },
  {
   "cell_type": "code",
   "execution_count": 1,
   "metadata": {},
   "outputs": [
    {
     "ename": "ImportError",
     "evalue": "\n\nIMPORTANT: PLEASE READ THIS FOR ADVICE ON HOW TO SOLVE THIS ISSUE!\n\nImporting the multiarray numpy extension module failed.  Most\nlikely you are trying to import a failed build of numpy.\nHere is how to proceed:\n- If you're working with a numpy git repository, try `git clean -xdf`\n  (removes all files not under version control) and rebuild numpy.\n- If you are simply trying to use the numpy version that you have installed:\n  your installation is broken - please reinstall numpy.\n- If you have already reinstalled and that did not fix the problem, then:\n  1. Check that you are using the Python you expect (you're using C:\\Users\\Weiqi\\Miniconda\\python.exe),\n     and that you have no directories in your PATH or PYTHONPATH that can\n     interfere with the Python and numpy versions you're trying to use.\n  2. If (1) looks fine, you can open a new issue at\n     https://github.com/numpy/numpy/issues.  Please include details on:\n     - how you installed Python\n     - how you installed numpy\n     - your operating system\n     - whether or not you have multiple versions of Python installed\n     - if you built from source, your compiler versions and ideally a build log\n\n     Note: this error has many possible causes, so please don't comment on\n     an existing issue about this - open a new one instead.\n\nOriginal error was: DLL load failed: The specified module could not be found.\n",
     "output_type": "error",
     "traceback": [
      "\u001b[1;31m---------------------------------------------------------------------------\u001b[0m",
      "\u001b[1;31mImportError\u001b[0m                               Traceback (most recent call last)",
      "\u001b[1;32m~\\Miniconda\\lib\\site-packages\\numpy\\core\\__init__.py\u001b[0m in \u001b[0;36m<module>\u001b[1;34m\u001b[0m\n\u001b[0;32m     15\u001b[0m \u001b[1;32mtry\u001b[0m\u001b[1;33m:\u001b[0m\u001b[1;33m\u001b[0m\u001b[1;33m\u001b[0m\u001b[0m\n\u001b[1;32m---> 16\u001b[1;33m     \u001b[1;32mfrom\u001b[0m \u001b[1;33m.\u001b[0m \u001b[1;32mimport\u001b[0m \u001b[0mmultiarray\u001b[0m\u001b[1;33m\u001b[0m\u001b[1;33m\u001b[0m\u001b[0m\n\u001b[0m\u001b[0;32m     17\u001b[0m \u001b[1;32mexcept\u001b[0m \u001b[0mImportError\u001b[0m \u001b[1;32mas\u001b[0m \u001b[0mexc\u001b[0m\u001b[1;33m:\u001b[0m\u001b[1;33m\u001b[0m\u001b[1;33m\u001b[0m\u001b[0m\n",
      "\u001b[1;32m~\\Miniconda\\lib\\site-packages\\numpy\\core\\multiarray.py\u001b[0m in \u001b[0;36m<module>\u001b[1;34m\u001b[0m\n\u001b[0;32m     11\u001b[0m \u001b[1;33m\u001b[0m\u001b[0m\n\u001b[1;32m---> 12\u001b[1;33m \u001b[1;32mfrom\u001b[0m \u001b[1;33m.\u001b[0m \u001b[1;32mimport\u001b[0m \u001b[0moverrides\u001b[0m\u001b[1;33m\u001b[0m\u001b[1;33m\u001b[0m\u001b[0m\n\u001b[0m\u001b[0;32m     13\u001b[0m \u001b[1;32mfrom\u001b[0m \u001b[1;33m.\u001b[0m \u001b[1;32mimport\u001b[0m \u001b[0m_multiarray_umath\u001b[0m\u001b[1;33m\u001b[0m\u001b[1;33m\u001b[0m\u001b[0m\n",
      "\u001b[1;32m~\\Miniconda\\lib\\site-packages\\numpy\\core\\overrides.py\u001b[0m in \u001b[0;36m<module>\u001b[1;34m\u001b[0m\n\u001b[0;32m      5\u001b[0m \u001b[1;33m\u001b[0m\u001b[0m\n\u001b[1;32m----> 6\u001b[1;33m from numpy.core._multiarray_umath import (\n\u001b[0m\u001b[0;32m      7\u001b[0m     add_docstring, implement_array_function, _get_implementing_args)\n",
      "\u001b[1;31mImportError\u001b[0m: DLL load failed: The specified module could not be found.",
      "\nDuring handling of the above exception, another exception occurred:\n",
      "\u001b[1;31mImportError\u001b[0m                               Traceback (most recent call last)",
      "\u001b[1;32m<ipython-input-1-034fdc8bd51e>\u001b[0m in \u001b[0;36m<module>\u001b[1;34m\u001b[0m\n\u001b[0;32m      1\u001b[0m \u001b[1;32mfrom\u001b[0m \u001b[0mitertools\u001b[0m \u001b[1;32mimport\u001b[0m \u001b[0mchain\u001b[0m\u001b[1;33m\u001b[0m\u001b[1;33m\u001b[0m\u001b[0m\n\u001b[1;32m----> 2\u001b[1;33m \u001b[1;32mfrom\u001b[0m \u001b[0mcontent\u001b[0m\u001b[1;33m.\u001b[0m\u001b[0manalyzers\u001b[0m\u001b[1;33m.\u001b[0m\u001b[0mcubie_location_analyzer\u001b[0m \u001b[1;32mimport\u001b[0m \u001b[0mCubieLocationAnalyzer\u001b[0m\u001b[1;33m\u001b[0m\u001b[1;33m\u001b[0m\u001b[0m\n\u001b[0m\u001b[0;32m      3\u001b[0m \u001b[1;33m\u001b[0m\u001b[0m\n\u001b[0;32m      4\u001b[0m \u001b[0minit_analyzer\u001b[0m \u001b[1;33m=\u001b[0m \u001b[0mCubieLocationAnalyzer\u001b[0m\u001b[1;33m(\u001b[0m\u001b[0mcube_side_length\u001b[0m\u001b[1;33m=\u001b[0m\u001b[1;36m3\u001b[0m\u001b[1;33m,\u001b[0m \u001b[0mtrack_item_location\u001b[0m\u001b[1;33m=\u001b[0m\u001b[1;36m12\u001b[0m\u001b[1;33m)\u001b[0m\u001b[1;33m\u001b[0m\u001b[1;33m\u001b[0m\u001b[0m\n\u001b[0;32m      5\u001b[0m \u001b[0mlocations\u001b[0m \u001b[1;33m=\u001b[0m \u001b[0minit_analyzer\u001b[0m\u001b[1;33m.\u001b[0m\u001b[0mget_all_location\u001b[0m\u001b[1;33m(\u001b[0m\u001b[1;33m)\u001b[0m\u001b[1;33m\u001b[0m\u001b[1;33m\u001b[0m\u001b[0m\n",
      "\u001b[1;32m~\\Documents\\GitHub\\Cube-Crypto\\content\\analyzers\\cubie_location_analyzer.py\u001b[0m in \u001b[0;36m<module>\u001b[1;34m\u001b[0m\n\u001b[0;32m      3\u001b[0m \u001b[1;32mimport\u001b[0m \u001b[0mmath\u001b[0m\u001b[1;33m\u001b[0m\u001b[1;33m\u001b[0m\u001b[0m\n\u001b[0;32m      4\u001b[0m \u001b[1;32mfrom\u001b[0m \u001b[0mtyping\u001b[0m \u001b[1;32mimport\u001b[0m \u001b[0mList\u001b[0m\u001b[1;33m\u001b[0m\u001b[1;33m\u001b[0m\u001b[0m\n\u001b[1;32m----> 5\u001b[1;33m \u001b[1;32mfrom\u001b[0m \u001b[0mcontent\u001b[0m\u001b[1;33m.\u001b[0m\u001b[0mencryption\u001b[0m\u001b[1;33m.\u001b[0m\u001b[0mcube_for_cubie\u001b[0m \u001b[1;32mimport\u001b[0m \u001b[0mCubeForCubie\u001b[0m\u001b[1;33m\u001b[0m\u001b[1;33m\u001b[0m\u001b[0m\n\u001b[0m\u001b[0;32m      6\u001b[0m \u001b[1;32mfrom\u001b[0m \u001b[0mcontent\u001b[0m\u001b[1;33m.\u001b[0m\u001b[0mhelper\u001b[0m\u001b[1;33m.\u001b[0m\u001b[0mconstants\u001b[0m \u001b[1;32mimport\u001b[0m \u001b[0mKey\u001b[0m\u001b[1;33m,\u001b[0m \u001b[0mCUBE_MOVE\u001b[0m\u001b[1;33m,\u001b[0m \u001b[0mMOVE_ANGLE\u001b[0m\u001b[1;33m\u001b[0m\u001b[1;33m\u001b[0m\u001b[0m\n\u001b[0;32m      7\u001b[0m \u001b[1;33m\u001b[0m\u001b[0m\n",
      "\u001b[1;32m~\\Documents\\GitHub\\Cube-Crypto\\content\\encryption\\cube_for_cubie.py\u001b[0m in \u001b[0;36m<module>\u001b[1;34m\u001b[0m\n\u001b[0;32m      2\u001b[0m \u001b[1;33m\u001b[0m\u001b[0m\n\u001b[0;32m      3\u001b[0m \u001b[1;32mimport\u001b[0m \u001b[0mmath\u001b[0m\u001b[1;33m\u001b[0m\u001b[1;33m\u001b[0m\u001b[0m\n\u001b[1;32m----> 4\u001b[1;33m \u001b[1;32mfrom\u001b[0m \u001b[0mcontent\u001b[0m\u001b[1;33m.\u001b[0m\u001b[0mencryption\u001b[0m\u001b[1;33m.\u001b[0m\u001b[0mcube_face_for_cubie\u001b[0m \u001b[1;32mimport\u001b[0m \u001b[0mCubeFaceForCubie\u001b[0m\u001b[1;33m\u001b[0m\u001b[1;33m\u001b[0m\u001b[0m\n\u001b[0m\u001b[0;32m      5\u001b[0m \u001b[1;32mfrom\u001b[0m \u001b[0mcontent\u001b[0m\u001b[1;33m.\u001b[0m\u001b[0mhelper\u001b[0m\u001b[1;33m.\u001b[0m\u001b[0mconstants\u001b[0m \u001b[1;32mimport\u001b[0m \u001b[0mWRONG_CUBE_INPUT\u001b[0m\u001b[1;33m,\u001b[0m \u001b[0mCUBIE_LENGTH\u001b[0m\u001b[1;33m,\u001b[0m\u001b[0;31m \u001b[0m\u001b[0;31m\\\u001b[0m\u001b[1;33m\u001b[0m\u001b[1;33m\u001b[0m\u001b[0m\n\u001b[0;32m      6\u001b[0m     \u001b[0mCubeMove\u001b[0m\u001b[1;33m,\u001b[0m \u001b[0mWRONG_CUBE_MOVE\u001b[0m\u001b[1;33m,\u001b[0m \u001b[0mWRONG_CUBE_SIDE_LENGTH\u001b[0m\u001b[1;33m,\u001b[0m \u001b[0mCubieItem\u001b[0m\u001b[1;33m,\u001b[0m \u001b[0mKey\u001b[0m\u001b[1;33m\u001b[0m\u001b[1;33m\u001b[0m\u001b[0m\n",
      "\u001b[1;32m~\\Documents\\GitHub\\Cube-Crypto\\content\\encryption\\cube_face_for_cubie.py\u001b[0m in \u001b[0;36m<module>\u001b[1;34m\u001b[0m\n\u001b[0;32m      2\u001b[0m \u001b[1;33m\u001b[0m\u001b[0m\n\u001b[0;32m      3\u001b[0m \u001b[1;32mimport\u001b[0m \u001b[0mitertools\u001b[0m\u001b[1;33m\u001b[0m\u001b[1;33m\u001b[0m\u001b[0m\n\u001b[1;32m----> 4\u001b[1;33m \u001b[1;32mimport\u001b[0m \u001b[0mnumpy\u001b[0m \u001b[1;32mas\u001b[0m \u001b[0mnp\u001b[0m\u001b[1;33m\u001b[0m\u001b[1;33m\u001b[0m\u001b[0m\n\u001b[0m\u001b[0;32m      5\u001b[0m \u001b[1;32mimport\u001b[0m \u001b[0mpandas\u001b[0m \u001b[1;32mas\u001b[0m \u001b[0mpd\u001b[0m\u001b[1;33m\u001b[0m\u001b[1;33m\u001b[0m\u001b[0m\n\u001b[0;32m      6\u001b[0m \u001b[1;32mfrom\u001b[0m \u001b[0mtyping\u001b[0m \u001b[1;32mimport\u001b[0m \u001b[0mList\u001b[0m\u001b[1;33m\u001b[0m\u001b[1;33m\u001b[0m\u001b[0m\n",
      "\u001b[1;32m~\\Miniconda\\lib\\site-packages\\numpy\\__init__.py\u001b[0m in \u001b[0;36m<module>\u001b[1;34m\u001b[0m\n\u001b[0;32m    140\u001b[0m     \u001b[1;32mfrom\u001b[0m \u001b[1;33m.\u001b[0m \u001b[1;32mimport\u001b[0m \u001b[0m_distributor_init\u001b[0m\u001b[1;33m\u001b[0m\u001b[1;33m\u001b[0m\u001b[0m\n\u001b[0;32m    141\u001b[0m \u001b[1;33m\u001b[0m\u001b[0m\n\u001b[1;32m--> 142\u001b[1;33m     \u001b[1;32mfrom\u001b[0m \u001b[1;33m.\u001b[0m \u001b[1;32mimport\u001b[0m \u001b[0mcore\u001b[0m\u001b[1;33m\u001b[0m\u001b[1;33m\u001b[0m\u001b[0m\n\u001b[0m\u001b[0;32m    143\u001b[0m     \u001b[1;32mfrom\u001b[0m \u001b[1;33m.\u001b[0m\u001b[0mcore\u001b[0m \u001b[1;32mimport\u001b[0m \u001b[1;33m*\u001b[0m\u001b[1;33m\u001b[0m\u001b[1;33m\u001b[0m\u001b[0m\n\u001b[0;32m    144\u001b[0m     \u001b[1;32mfrom\u001b[0m \u001b[1;33m.\u001b[0m \u001b[1;32mimport\u001b[0m \u001b[0mcompat\u001b[0m\u001b[1;33m\u001b[0m\u001b[1;33m\u001b[0m\u001b[0m\n",
      "\u001b[1;32m~\\Miniconda\\lib\\site-packages\\numpy\\core\\__init__.py\u001b[0m in \u001b[0;36m<module>\u001b[1;34m\u001b[0m\n\u001b[0;32m     45\u001b[0m \u001b[0mOriginal\u001b[0m \u001b[0merror\u001b[0m \u001b[0mwas\u001b[0m\u001b[1;33m:\u001b[0m \u001b[1;33m%\u001b[0m\u001b[0ms\u001b[0m\u001b[1;33m\u001b[0m\u001b[1;33m\u001b[0m\u001b[0m\n\u001b[0;32m     46\u001b[0m \"\"\" % (sys.executable, exc)\n\u001b[1;32m---> 47\u001b[1;33m     \u001b[1;32mraise\u001b[0m \u001b[0mImportError\u001b[0m\u001b[1;33m(\u001b[0m\u001b[0mmsg\u001b[0m\u001b[1;33m)\u001b[0m\u001b[1;33m\u001b[0m\u001b[1;33m\u001b[0m\u001b[0m\n\u001b[0m\u001b[0;32m     48\u001b[0m \u001b[1;32mfinally\u001b[0m\u001b[1;33m:\u001b[0m\u001b[1;33m\u001b[0m\u001b[1;33m\u001b[0m\u001b[0m\n\u001b[0;32m     49\u001b[0m     \u001b[1;32mfor\u001b[0m \u001b[0menvkey\u001b[0m \u001b[1;32min\u001b[0m \u001b[0menv_added\u001b[0m\u001b[1;33m:\u001b[0m\u001b[1;33m\u001b[0m\u001b[1;33m\u001b[0m\u001b[0m\n",
      "\u001b[1;31mImportError\u001b[0m: \n\nIMPORTANT: PLEASE READ THIS FOR ADVICE ON HOW TO SOLVE THIS ISSUE!\n\nImporting the multiarray numpy extension module failed.  Most\nlikely you are trying to import a failed build of numpy.\nHere is how to proceed:\n- If you're working with a numpy git repository, try `git clean -xdf`\n  (removes all files not under version control) and rebuild numpy.\n- If you are simply trying to use the numpy version that you have installed:\n  your installation is broken - please reinstall numpy.\n- If you have already reinstalled and that did not fix the problem, then:\n  1. Check that you are using the Python you expect (you're using C:\\Users\\Weiqi\\Miniconda\\python.exe),\n     and that you have no directories in your PATH or PYTHONPATH that can\n     interfere with the Python and numpy versions you're trying to use.\n  2. If (1) looks fine, you can open a new issue at\n     https://github.com/numpy/numpy/issues.  Please include details on:\n     - how you installed Python\n     - how you installed numpy\n     - your operating system\n     - whether or not you have multiple versions of Python installed\n     - if you built from source, your compiler versions and ideally a build log\n\n     Note: this error has many possible causes, so please don't comment on\n     an existing issue about this - open a new one instead.\n\nOriginal error was: DLL load failed: The specified module could not be found.\n"
     ]
    }
   ],
   "source": [
    "from itertools import chain\n",
    "from content.analyzers.cubie_location_analyzer import CubieLocationAnalyzer\n",
    "\n",
    "init_analyzer = CubieLocationAnalyzer(cube_side_length=3, track_item_location=12)\n",
    "locations = init_analyzer.get_all_location()\n",
    "\n",
    "for _ in range(3):\n",
    "    \n",
    "    locations_lists = [\n",
    "        CubieLocationAnalyzer(\n",
    "            cube_side_length=3, \n",
    "            track_item_location=location\n",
    "        ).get_all_location()\n",
    "        for location in locations\n",
    "    ]\n",
    "    \n",
    "    locations = set(chain.from_iterable(locations_lists))\n",
    "\n",
    "print(len(locations))"
   ]
  }
 ],
 "metadata": {
  "kernelspec": {
   "display_name": "Python 3",
   "language": "python",
   "name": "python3"
  },
  "language_info": {
   "codemirror_mode": {
    "name": "ipython",
    "version": 3
   },
   "file_extension": ".py",
   "mimetype": "text/x-python",
   "name": "python",
   "nbconvert_exporter": "python",
   "pygments_lexer": "ipython3",
   "version": "3.7.2"
  }
 },
 "nbformat": 4,
 "nbformat_minor": 2
}
